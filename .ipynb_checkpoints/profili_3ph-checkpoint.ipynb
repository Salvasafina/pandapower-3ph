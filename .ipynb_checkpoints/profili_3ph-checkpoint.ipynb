{
 "cells": [
  {
   "cell_type": "markdown",
   "id": "58f0f1db",
   "metadata": {},
   "source": [
    "# Costruzione di una rete sbilanciata elementare e calcolo delle tensioni di ogni fase considerando un profilo di carico "
   ]
  },
  {
   "cell_type": "markdown",
   "id": "94ee966c",
   "metadata": {},
   "source": [
    "### Costruzione della rete"
   ]
  },
  {
   "cell_type": "code",
   "execution_count": 1,
   "id": "3c6e4a37",
   "metadata": {},
   "outputs": [],
   "source": [
    "from math import cos,sin,acos,pi\n",
    "import numpy as np\n",
    "import pandapower as pp\n",
    "from funzioni_rete import *\n",
    "import matplotlib.pyplot as plt\n",
    "import pandapower.plotting as pplot\n",
    "from pandapower.pf.runpp_3ph import runpp_3ph"
   ]
  },
  {
   "cell_type": "markdown",
   "id": "ad1286ad",
   "metadata": {},
   "source": [
    "Matrice di trasformata di Fortescue, è necessaria per passare la matrice di impedenze di una linea da abc a sequenza 012"
   ]
  },
  {
   "cell_type": "code",
   "execution_count": 2,
   "id": "59adcdc0",
   "metadata": {},
   "outputs": [],
   "source": [
    "A = np.array([  [1,1,1],\n",
    "                [1, cos(4*pi/3)+ sin(4*pi/3)*1j, cos(2*pi/3)+sin(2*pi/3)*1j],\n",
    "                [1, cos(2*pi/3)+ sin(2*pi/3)*1j, cos(4*pi/3)+sin(4*pi/3)*1j]])\n",
    "invA = 1/3*np.array([[1,1,1],\n",
    "                    [1, cos(2*pi/3)+ sin(2*pi/3)*1j, cos(4*pi/3)+sin(4*pi/3)*1j],\n",
    "                    [1, cos(4*pi/3)+ sin(4*pi/3)*1j, cos(2*pi/3)+sin(2*pi/3)*1j]])"
   ]
  },
  {
   "cell_type": "markdown",
   "id": "df0bffa6",
   "metadata": {},
   "source": [
    "Costruzione della matrice di impedenze di una linea Zabc, è 3x3 perche è già stata fatta la riduzione di Kron"
   ]
  },
  {
   "cell_type": "code",
   "execution_count": 3,
   "id": "b4582ee1",
   "metadata": {},
   "outputs": [],
   "source": [
    "# Matrice di impedenze di fase -dopo Kron-  [ohm/mi]\n",
    "Zabc = np.array([[.3375 + 1.0478j, .1535+.3849j, .1559+.5017j],[.1535+.3849j, .3414 +1.0348j, .1580+.4236j],[.1559+.5017j, .1580+.4236j, .3465+1.0179j]])\n",
    "Zabc = 3*Zabc #linea lung 3 mi\n",
    "\n",
    "# Sistemo Zabc per considerare la linea trasposta\n",
    "Zabc[0,0] = Zabc[1,1] = Zabc[2,2] = (Zabc[0,0] + Zabc[1,1] + Zabc[2,2])/3\n",
    "Zabc[0,1] = Zabc[0,2] = Zabc[1,2] = (Zabc[0,1] + Zabc[0,2] + Zabc[1,2])/3\n",
    "Zabc[1,0] = Zabc[2,0] = Zabc[2,1] = Zabc[0,1]"
   ]
  },
  {
   "cell_type": "code",
   "execution_count": 4,
   "id": "8e862dd4",
   "metadata": {},
   "outputs": [
    {
     "data": {
      "text/plain": [
       "array([[1.0254+3.1005j, 0.4674+1.3102j, 0.4674+1.3102j],\n",
       "       [0.4674+1.3102j, 1.0254+3.1005j, 0.4674+1.3102j],\n",
       "       [0.4674+1.3102j, 0.4674+1.3102j, 1.0254+3.1005j]])"
      ]
     },
     "execution_count": 4,
     "metadata": {},
     "output_type": "execute_result"
    }
   ],
   "source": [
    "Zabc"
   ]
  },
  {
   "cell_type": "markdown",
   "id": "91e60786",
   "metadata": {},
   "source": [
    "Si trasforma la matrice di impedenze Zabc in quella di impedenze 012 usando la trasformazione di Fortescue (matrici A e invA) "
   ]
  },
  {
   "cell_type": "code",
   "execution_count": 5,
   "id": "8b2f33aa",
   "metadata": {},
   "outputs": [],
   "source": [
    "#Matrice delle impedenze in sequenza 012\n",
    "Z012 = invA@Zabc@A"
   ]
  },
  {
   "cell_type": "code",
   "execution_count": 6,
   "id": "250ed4fb",
   "metadata": {},
   "outputs": [
    {
     "data": {
      "text/plain": [
       "array([[ 1.96020000e+00+5.72090000e+00j, -4.35108143e-16-1.97346723e-16j,\n",
       "        -5.77496672e-16+3.00213106e-17j],\n",
       "       [-4.99600361e-16-2.22044605e-16j,  5.58000000e-01+1.79030000e+00j,\n",
       "        -4.99600361e-16+4.44089210e-16j],\n",
       "       [-4.44089210e-16-2.22044605e-16j, -4.44089210e-16+5.55111512e-16j,\n",
       "         5.58000000e-01+1.79030000e+00j]])"
      ]
     },
     "execution_count": 6,
     "metadata": {},
     "output_type": "execute_result"
    }
   ],
   "source": [
    "Z012"
   ]
  },
  {
   "cell_type": "markdown",
   "id": "9e617639",
   "metadata": {},
   "source": [
    "Da Z012 si ottengono i dati di resistenza e reattanza per ogni sequenza, quesi verrano utilizzati nella costruzione della rete in pandapower."
   ]
  },
  {
   "cell_type": "code",
   "execution_count": 7,
   "id": "5b58ae37",
   "metadata": {},
   "outputs": [],
   "source": [
    "# Resistenza e reattanza in sequenza 012 (Z1 = Z2)\n",
    "r0 = np.real(Z012[0,0])\n",
    "x0 = np.imag(Z012[0,0])\n",
    "c0 = 0\n",
    "r1 = np.real(Z012[1,1])\n",
    "x1 = np.imag(Z012[1,1])\n",
    "c1 = 0"
   ]
  },
  {
   "cell_type": "markdown",
   "id": "fa8d5f86",
   "metadata": {},
   "source": [
    "Dati del carico sbilanciato presente al nodo 1"
   ]
  },
  {
   "cell_type": "code",
   "execution_count": 8,
   "id": "94277087",
   "metadata": {},
   "outputs": [],
   "source": [
    "# Potenza del carico trifase (MW y Mvar)\n",
    "pa = 1.5*0.88\n",
    "pb = 1*0.95\n",
    "pc = 2*.8\n",
    "qa = 1.5*sin(acos(.88))\n",
    "qb = 1*sin(acos(0.95))\n",
    "qc = 2*sin(acos(.8))"
   ]
  },
  {
   "cell_type": "markdown",
   "id": "5dddff74",
   "metadata": {},
   "source": [
    "Avendo tutti i dati necessati si passa alla costruzione della rete in Pandapower."
   ]
  },
  {
   "cell_type": "code",
   "execution_count": 9,
   "id": "0988ff45",
   "metadata": {
    "scrolled": true
   },
   "outputs": [
    {
     "data": {
      "text/plain": [
       "2"
      ]
     },
     "execution_count": 9,
     "metadata": {},
     "output_type": "execute_result"
    }
   ],
   "source": [
    "#  ---- Costruzione rete Pandapower  ----  #\n",
    "#Costruzione rete\n",
    "net = pp.create_empty_network(f_hz=60)      \n",
    "# Rete vuota\n",
    "pp.create_bus(net, 12.47, 'bus0')           \n",
    "# Aggiungo y nodi\n",
    "pp.create_bus(net, 12.47, 'bus1')\n",
    "# Rete esterna / nodo slack\n",
    "pp.create_ext_grid(net, 0, 1, 0, s_sc_max_mva=1000000000, rx_max = 0.1, x0x_max = 0.1, r0x0_max=0.1) \n",
    "# Aggiungo la linea (Si crea una linea di 1km con dati corrispondenti a una linea di 3 miglia)\n",
    "pp.create_line_from_parameters(net, 0, 1, 1, r1, x1, c1, 1000000, name = 'linea01'\n",
    "    , r0_ohm_per_km= r0, x0_ohm_per_km= x0, c0_nf_per_km= c0)\n",
    "# Aggiungo gli interruttori\n",
    "pp.create_switch(net, bus = 0, element=0, et= 'l')\n",
    "pp.create_switch(net, bus = 1, element=0, et= 'l')\n",
    "# Aggiungo il carico trifase\n",
    "pp.create_asymmetric_load(net=net, bus = 1, p_a_mw=pa, q_a_mvar=qa, sn_mva=1.5) \n",
    "pp.create_asymmetric_load(net=net, bus = 1, p_b_mw=pb, q_b_mvar=qb, sn_mva=1)\n",
    "pp.create_asymmetric_load(net=net, bus = 1, p_c_mw=pc, q_c_mvar=qc, sn_mva=2)"
   ]
  },
  {
   "cell_type": "markdown",
   "id": "fc7c49eb",
   "metadata": {},
   "source": [
    "Informazioni del numero di elementi nella rete"
   ]
  },
  {
   "cell_type": "code",
   "execution_count": 10,
   "id": "393aa9f3",
   "metadata": {},
   "outputs": [
    {
     "data": {
      "text/plain": [
       "This pandapower network includes the following parameter tables:\n",
       "   - bus (2 elements)\n",
       "   - asymmetric_load (3 elements)\n",
       "   - switch (2 elements)\n",
       "   - ext_grid (1 element)\n",
       "   - line (1 element)"
      ]
     },
     "execution_count": 10,
     "metadata": {},
     "output_type": "execute_result"
    }
   ],
   "source": [
    "net"
   ]
  },
  {
   "cell_type": "markdown",
   "id": "87142f82",
   "metadata": {},
   "source": [
    "Schema della rete appena creata"
   ]
  },
  {
   "cell_type": "code",
   "execution_count": 11,
   "id": "6c2fdee4",
   "metadata": {},
   "outputs": [
    {
     "name": "stderr",
     "output_type": "stream",
     "text": [
      "No or insufficient geodata available --> Creating artificial coordinates. This may take some time\n"
     ]
    },
    {
     "data": {
      "image/png": "[encoded data removed]",
      "text/plain": [
       "<Figure size 720x576 with 1 Axes>"
      ]
     },
     "metadata": {},
     "output_type": "display_data"
    }
   ],
   "source": [
    "#  ---- Schema della rete ----  #\n",
    "ax = pplot.simple_plot(net, show_plot=False)\n",
    "sc = pplot.create_line_switch_collection(net, size = 0.01, distance_to_bus = 0.05)\n",
    "pplot.draw_collections([sc], ax = ax)\n",
    "plt.show()"
   ]
  },
  {
   "cell_type": "markdown",
   "id": "d71b5f91",
   "metadata": {},
   "source": [
    "### Carica dei profili di carico"
   ]
  },
  {
   "cell_type": "markdown",
   "id": "f85cfbb2",
   "metadata": {},
   "source": [
    "Carica dei profili di carico, i dato vengono da un file .mat, per salvarli in un DataFrame si usa una funzione apposita presente nel file funzioni_rete.py"
   ]
  },
  {
   "cell_type": "code",
   "execution_count": 12,
   "id": "0eb11570",
   "metadata": {},
   "outputs": [],
   "source": [
    "# --- Carica profili di carico --- #\n",
    "profili_df = carica_profili_df('ReteRurale_profili.mat')"
   ]
  },
  {
   "cell_type": "code",
   "execution_count": 13,
   "id": "6e06e477",
   "metadata": {},
   "outputs": [
    {
     "data": {
      "image/png": "[encoded data removed]",
      "text/plain": [
       "<Figure size 432x288 with 1 Axes>"
      ]
     },
     "metadata": {
      "needs_background": "light"
     },
     "output_type": "display_data"
    }
   ],
   "source": [
    "plt.plot(profili_df)\n",
    "plt.show()"
   ]
  },
  {
   "cell_type": "markdown",
   "id": "e80d1205",
   "metadata": {},
   "source": [
    "### Soluzione della rete considerando il profili di carico"
   ]
  },
  {
   "cell_type": "markdown",
   "id": "f69d578d",
   "metadata": {},
   "source": [
    "Soluzione del sistema ad ogni intervallo di tempo, al carico sbilanciato del nodo 1 viene assegnato il profilo di carico industriale."
   ]
  },
  {
   "cell_type": "code",
   "execution_count": 14,
   "id": "111271ad",
   "metadata": {},
   "outputs": [],
   "source": [
    "# --- Soluzione del sistema ad ogni intervallo di tempo  --- #\n",
    "tre_df = net.res_bus_3ph.copy()\n",
    "for i in range(96):\n",
    "    net.asymmetric_load.scaling = profili_df.ind[i]\n",
    "    runpp_3ph(net)\n",
    "    tre_df = tre_df.append(net.res_bus_3ph.loc[1],ignore_index=True)"
   ]
  },
  {
   "cell_type": "markdown",
   "id": "7b7fca00",
   "metadata": {},
   "source": [
    "### Risultati delle tensioni di fase in pu"
   ]
  },
  {
   "cell_type": "markdown",
   "id": "900cc2c7",
   "metadata": {},
   "source": [
    "Costruzione del grafico che mostra l'evoluzione della tensione al nodo 1 per ogni fase."
   ]
  },
  {
   "cell_type": "code",
   "execution_count": 15,
   "id": "748e935c",
   "metadata": {},
   "outputs": [
    {
     "data": {
      "image/png": "[encoded data removed]",
      "text/plain": [
       "<Figure size 432x288 with 1 Axes>"
      ]
     },
     "metadata": {
      "needs_background": "light"
     },
     "output_type": "display_data"
    }
   ],
   "source": [
    "# --- Grafico --- #\n",
    "evol_tens_df = tre_df[['vm_a_pu','vm_b_pu','vm_c_pu']]\n",
    "plt.plot(evol_tens_df)\n",
    "plt.title('Evoluzione tensioni per fase')\n",
    "plt.xlabel('Time step')\n",
    "plt.legend(evol_tens_df)\n",
    "plt.show()"
   ]
  }
 ],
 "metadata": {
  "kernelspec": {
   "display_name": "Python 3 (ipykernel)",
   "language": "python",
   "name": "python3"
  },
  "language_info": {
   "codemirror_mode": {
    "name": "ipython",
    "version": 3
   },
   "file_extension": ".py",
   "mimetype": "text/x-python",
   "name": "python",
   "nbconvert_exporter": "python",
   "pygments_lexer": "ipython3",
   "version": "3.10.5"
  }
 },
 "nbformat": 4,
 "nbformat_minor": 5
}
